{
 "cells": [
  {
   "cell_type": "markdown",
   "id": "1195015c-4232-45e0-a3e0-6253fc6b6f06",
   "metadata": {},
   "source": [
    "# Merge metagenomic reads and align to reference"
   ]
  },
  {
   "cell_type": "code",
   "execution_count": 1,
   "id": "1a9dce6e-a361-4ddc-ad01-caefc431b825",
   "metadata": {
    "tags": []
   },
   "outputs": [],
   "source": [
    "import os \n",
    "from Bio import SeqIO\n",
    "import pandas as pd\n",
    "import seaborn as sns"
   ]
  },
  {
   "cell_type": "markdown",
   "id": "c7897f15-7b24-469d-9661-c0911be902b1",
   "metadata": {},
   "source": [
    "## Merge"
   ]
  },
  {
   "cell_type": "code",
   "execution_count": 2,
   "id": "b145cf8b-314d-4be0-90f6-537e0feda963",
   "metadata": {},
   "outputs": [],
   "source": [
    "fastq_dir = '../data/kraken/data/kraken_results/fastq/'"
   ]
  },
  {
   "cell_type": "code",
   "execution_count": 3,
   "id": "dff50793-48b6-452b-8b80-d5ab382342bf",
   "metadata": {
    "tags": []
   },
   "outputs": [],
   "source": [
    "# get files first, to sort them\n",
    "r1s = []\n",
    "r2s = []\n",
    "\n",
    "for file in os.listdir(fastq_dir):\n",
    "    if file.endswith('_1.alphatecti.fastq'):\n",
    "        r1s.append(file)\n",
    "    elif file.endswith('_2.alphatecti.fastq'):\n",
    "        r2s.append(file)\n",
    "        \n",
    "r1s.sort()\n",
    "r2s.sort()"
   ]
  },
  {
   "cell_type": "code",
   "execution_count": 4,
   "id": "42d7dee7-b476-4ce5-ab71-3bc7b5df7197",
   "metadata": {
    "tags": []
   },
   "outputs": [],
   "source": [
    "metadata = pd.read_csv('../data/kraken/data/wastewater_metadata.tsv', sep='\\t')"
   ]
  },
  {
   "cell_type": "code",
   "execution_count": 6,
   "id": "e2ecd26a-f17e-49d2-8d10-ab1c8b935efb",
   "metadata": {
    "tags": []
   },
   "outputs": [],
   "source": [
    "bioproj_dict = dict(zip(metadata['run_acc'], metadata['bioproject']))\n",
    "bioproj_dict['DIN'] = 'baymlab'\n",
    "bioproj_dict['DIS'] = 'baymlab'"
   ]
  },
  {
   "cell_type": "code",
   "execution_count": 7,
   "id": "5992bbdb-198b-473f-b0e0-75443acf1f33",
   "metadata": {
    "tags": []
   },
   "outputs": [],
   "source": [
    "new_records_r1 = []\n",
    "new_records_r2 = []\n",
    "\n",
    "for file in r1s:\n",
    "    path = os.path.join(fastq_dir, file)\n",
    "\n",
    "    for record in SeqIO.parse(path, 'fastq'):\n",
    "        acc = file.split('_')[0]\n",
    "        record.description = bioproj_dict[acc]\n",
    "        new_records_r1.append(record)\n",
    "        \n",
    "for file in r2s:\n",
    "    path = os.path.join(fastq_dir, file)\n",
    "\n",
    "    for record in SeqIO.parse(path, 'fastq'):\n",
    "        acc = file.split('_')[0]\n",
    "        record.description = bioproj_dict[acc]\n",
    "        new_records_r2.append(record)"
   ]
  },
  {
   "cell_type": "code",
   "execution_count": 8,
   "id": "718c82c3-4f0c-4442-8d1e-3068c543adac",
   "metadata": {
    "tags": []
   },
   "outputs": [],
   "source": [
    "#SeqIO.write(new_records_r1, '../data/map_kraken/all_reads_r1.fastq', 'fastq')\n",
    "#SeqIO.write(new_records_r2, '../data/map_kraken/all_reads_r2.fastq', 'fastq')"
   ]
  },
  {
   "cell_type": "markdown",
   "id": "cd395722-afa3-4ee3-9bf0-3080eb736c97",
   "metadata": {},
   "source": [
    "## Search"
   ]
  },
  {
   "cell_type": "code",
   "execution_count": 9,
   "id": "4b518050-ec6f-4463-8f83-8b5185d15529",
   "metadata": {
    "tags": []
   },
   "outputs": [],
   "source": [
    "# merge all prds\n",
    "\n",
    "dire = '../../../genomes/data/assemblies_oriented/'\n",
    "all_prds = []\n",
    "for file in os.listdir(dire):\n",
    "    if file.startswith('PRD'):\n",
    "        path = os.path.join(dire, file)\n",
    "        for record in SeqIO.parse(path, 'fasta'):\n",
    "            name = file.split('.fasta')[0]\n",
    "            record.id = name\n",
    "            record.name = ''\n",
    "            record.description = ''\n",
    "            all_prds.append(record)\n",
    "            \n",
    "#SeqIO.write(all_prds, '../data/map_kraken/all_prds.fasta', 'fasta')"
   ]
  },
  {
   "cell_type": "code",
   "execution_count": 10,
   "id": "77542d3e-f814-45b8-bfa6-3b081f940c0d",
   "metadata": {
    "tags": []
   },
   "outputs": [],
   "source": [
    "#ref = '../data/map_kraken/all_prds.fasta'\n",
    "ref = '../data/map_kraken/prd1.fasta'\n",
    "query_r1 = '../data/map_kraken/all_reads_r1.fastq'\n",
    "query_r2 = '../data/map_kraken/all_reads_r2.fastq'"
   ]
  },
  {
   "cell_type": "markdown",
   "id": "b5e17d42-4bd7-4a7c-b10c-467d0b55e64c",
   "metadata": {},
   "source": [
    "### minimap"
   ]
  },
  {
   "cell_type": "code",
   "execution_count": 11,
   "id": "8176c228-fe1a-47d3-9f41-0852a5bf7da2",
   "metadata": {},
   "outputs": [],
   "source": [
    "sam = '../data/map_kraken/mm.sam'\n",
    "\n",
    "cmd = f'minimap2 -ax sr {ref} {query_r1} {query_r2} > {sam}'\n",
    "#! $cmd"
   ]
  },
  {
   "cell_type": "markdown",
   "id": "9a5fabc5-a2db-46c1-bfe7-928305489c31",
   "metadata": {},
   "source": [
    "# Subset"
   ]
  },
  {
   "cell_type": "code",
   "execution_count": 12,
   "id": "1a3ab62d-273f-4b9e-bbb0-a117f7f10d8f",
   "metadata": {
    "tags": []
   },
   "outputs": [],
   "source": [
    "bam = '../data/map_kraken/mm.bam'\n",
    "#out = '../data/map_kraken/mm.p2.bam'\n",
    "out = '../data/map_kraken/mm.p2.sam'\n",
    "p2 = \"NC_001421.2:3128-4903\"\n",
    "\n",
    "cmd = f'samtools view {bam} {p2} > {out}'\n",
    "#! $cmd"
   ]
  },
  {
   "cell_type": "code",
   "execution_count": 13,
   "id": "20ddbbaa-89f4-49ad-876f-b14747af2bcf",
   "metadata": {
    "tags": []
   },
   "outputs": [],
   "source": [
    "bam = '../data/map_kraken/mm.bam'\n",
    "out = '../data/map_kraken/mm.p3.sam'\n",
    "p3 = \"NC_001421.2:8595-9782\"\n",
    "\n",
    "cmd = f'samtools view {bam} {p3} > {out}'\n",
    "#! $cmd"
   ]
  },
  {
   "cell_type": "markdown",
   "id": "cb218fbd-0de3-4b24-bede-cfbd2b81cf51",
   "metadata": {},
   "source": [
    "## Label origin"
   ]
  },
  {
   "cell_type": "code",
   "execution_count": 14,
   "id": "5a838611-d99b-4bb6-83d3-c502e02e6c06",
   "metadata": {
    "tags": []
   },
   "outputs": [],
   "source": [
    "df_p2 = pd.read_csv('../data/map_kraken/mm.p2.sam', sep='\\t', header=None, comment='@')\n",
    "\n",
    "nameser = df_p2[0].str.split('.', expand=True)[0].map(bioproj_dict)\n",
    "nameser = nameser.fillna('baymlab')\n",
    "\n",
    "df_p2[21] = 'CO:Z:' + nameser\n",
    "\n",
    "#df_p2.to_csv('../data/map_kraken/mm.p2.edit.sam', sep='\\t', header=None, index=None)"
   ]
  },
  {
   "cell_type": "code",
   "execution_count": 15,
   "id": "5e50680a-b9dc-48ae-94ce-5e0491d0fd39",
   "metadata": {
    "tags": []
   },
   "outputs": [],
   "source": [
    "df_p3 = pd.read_csv('../data/map_kraken/mm.p3.sam', sep='\\t', header=None, comment='@')\n",
    "\n",
    "nameser = df_p3[0].str.split('.', expand=True)[0].map(bioproj_dict)\n",
    "nameser = nameser.fillna('baymlab')\n",
    "\n",
    "df_p3[21] = 'CO:Z:' + nameser\n",
    "\n",
    "#df_p3.to_csv('../data/map_kraken/mm.p3.edit.sam', sep='\\t', header=None, index=None)"
   ]
  }
 ],
 "metadata": {
  "kernelspec": {
   "display_name": "Python 3 (ipykernel)",
   "language": "python",
   "name": "python3"
  },
  "language_info": {
   "codemirror_mode": {
    "name": "ipython",
    "version": 3
   },
   "file_extension": ".py",
   "mimetype": "text/x-python",
   "name": "python",
   "nbconvert_exporter": "python",
   "pygments_lexer": "ipython3",
   "version": "3.10.8"
  }
 },
 "nbformat": 4,
 "nbformat_minor": 5
}
