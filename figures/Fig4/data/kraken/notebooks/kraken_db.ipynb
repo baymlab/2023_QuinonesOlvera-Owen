{
 "cells": [
  {
   "cell_type": "markdown",
   "metadata": {},
   "source": [
    "# Build Kraken2 DB"
   ]
  },
  {
   "cell_type": "code",
   "execution_count": 9,
   "metadata": {},
   "outputs": [],
   "source": [
    "db_name = 'ww_viral'"
   ]
  },
  {
   "cell_type": "markdown",
   "metadata": {},
   "source": [
    "## Kraken"
   ]
  },
  {
   "cell_type": "code",
   "execution_count": 10,
   "metadata": {},
   "outputs": [
    {
     "name": "stdout",
     "output_type": "stream",
     "text": [
      "kraken2-build --download-taxonomy --db ww_viral\n"
     ]
    }
   ],
   "source": [
    "# download taxonomy\n",
    "cmd = 'kraken2-build '\\\n",
    "         '--download-taxonomy '\\\n",
    "        f'--db {db_name}'\n",
    "print(cmd)"
   ]
  },
  {
   "cell_type": "code",
   "execution_count": 11,
   "metadata": {},
   "outputs": [
    {
     "name": "stdout",
     "output_type": "stream",
     "text": [
      "kraken2-build --download-library viral --db ww_viral\n"
     ]
    }
   ],
   "source": [
    "# viral dataset\n",
    "cmd = 'kraken2-build '\\\n",
    "         '--download-library viral '\\\n",
    "        f'--db {db_name}'\n",
    "print(cmd)"
   ]
  },
  {
   "cell_type": "code",
   "execution_count": 12,
   "metadata": {},
   "outputs": [
    {
     "name": "stdout",
     "output_type": "stream",
     "text": [
      "kraken2-build --download-library bacteria --db ww_viral\n"
     ]
    }
   ],
   "source": [
    "# viral dataset\n",
    "cmd = 'kraken2-build '\\\n",
    "         '--download-library bacteria '\\\n",
    "        f'--db {db_name}'\n",
    "print(cmd)"
   ]
  },
  {
   "cell_type": "markdown",
   "metadata": {},
   "source": [
    "## Custom DB additions"
   ]
  },
  {
   "cell_type": "code",
   "execution_count": 14,
   "metadata": {},
   "outputs": [
    {
     "name": "stdout",
     "output_type": "stream",
     "text": [
      "for file in alphatecti_genomes/*.fasta;do kraken2-build --add-to-library $file --db ww_viral;done\n"
     ]
    }
   ],
   "source": [
    "dir_pdep = 'alphatecti_genomes' # directory with alphatectiviruses from this study\n",
    "cmd = f'for file in {dir_pdep}/*.fasta;'\\\n",
    "        'do '\\\n",
    "        'kraken2-build '\\\n",
    "            '--add-to-library $file'\\\n",
    "            f' --db {db_name};'\\\n",
    "        'done'\n",
    "print(cmd)"
   ]
  },
  {
   "cell_type": "markdown",
   "metadata": {},
   "source": [
    "## Build DB"
   ]
  },
  {
   "cell_type": "code",
   "execution_count": 15,
   "metadata": {},
   "outputs": [
    {
     "name": "stdout",
     "output_type": "stream",
     "text": [
      "kraken2-build --build --db ww_viral\n"
     ]
    }
   ],
   "source": [
    "cmd = 'kraken2-build '\\\n",
    "         '--build '\\\n",
    "        f'--db {db_name}'\n",
    "print(cmd)"
   ]
  },
  {
   "cell_type": "code",
   "execution_count": null,
   "metadata": {},
   "outputs": [],
   "source": []
  }
 ],
 "metadata": {
  "kernelspec": {
   "display_name": "Python 3 (ipykernel)",
   "language": "python",
   "name": "python3"
  },
  "language_info": {
   "codemirror_mode": {
    "name": "ipython",
    "version": 3
   },
   "file_extension": ".py",
   "mimetype": "text/x-python",
   "name": "python",
   "nbconvert_exporter": "python",
   "pygments_lexer": "ipython3",
   "version": "3.10.8"
  }
 },
 "nbformat": 4,
 "nbformat_minor": 4
}
