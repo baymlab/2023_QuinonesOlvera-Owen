{
 "cells": [
  {
   "cell_type": "code",
   "execution_count": 1,
   "id": "8a56001f-8589-4838-907d-6c980de68e59",
   "metadata": {
    "tags": []
   },
   "outputs": [],
   "source": [
    "import pandas as pd\n",
    "import os\n",
    "import datetime\n",
    "import numpy as np\n",
    "import sys\n",
    "import seaborn as sns\n",
    "\n",
    "sys.path.insert(0, '../scripts')\n",
    "import EOL_tools\n",
    "import matplotlib.pyplot as plt\n",
    "import matplotlib\n",
    "import matplotlib.cm as cm"
   ]
  },
  {
   "cell_type": "markdown",
   "id": "c5a859ad-18ba-4873-96c5-1df87234474a",
   "metadata": {},
   "source": [
    "## Read data"
   ]
  },
  {
   "cell_type": "code",
   "execution_count": 2,
   "id": "082c7200-ea9c-454a-9263-2f7cb39a1acf",
   "metadata": {
    "tags": []
   },
   "outputs": [],
   "source": [
    "phage_metadata = '../data/_raw/phage_metadata.tsv'\n",
    "exp_metadata = '../data/_raw/experiment_metadata.tsv'"
   ]
  },
  {
   "cell_type": "code",
   "execution_count": 3,
   "id": "2f3ed1dd-7042-4416-affd-a74f2cdcb6c1",
   "metadata": {
    "tags": []
   },
   "outputs": [],
   "source": [
    "# read experiment metadata\n",
    "exp_metadata = pd.read_csv(exp_metadata, sep='\\t')"
   ]
  },
  {
   "cell_type": "code",
   "execution_count": 4,
   "id": "943bc464-79b0-4153-93c7-1423acad6458",
   "metadata": {
    "tags": []
   },
   "outputs": [],
   "source": [
    "# append all the experiments into single dataframe\n",
    "dire = '../data/_raw'\n",
    "\n",
    "experiments = []\n",
    "\n",
    "for column, row in exp_metadata.iterrows():\n",
    "    \n",
    "    experiment_name = row['file']\n",
    "    \n",
    "    # get full file name with path\n",
    "    file = os.path.join(dire, f'{experiment_name}.tsv')\n",
    "    \n",
    "    # read experiment and clean up\n",
    "    df_exp = EOL_tools.read_experiment(file, row['strain'], row['plate'], phage_metadata)\n",
    "    \n",
    "    # add column with experiment name\n",
    "    df_exp['experiment'] = [experiment_name] * len(df_exp)\n",
    "    \n",
    "    experiments.append(df_exp)\n",
    "\n",
    "df_all_experiments = pd.concat(experiments)"
   ]
  },
  {
   "cell_type": "markdown",
   "id": "0deb1636-8158-42b8-9313-640f9d61fe8c",
   "metadata": {},
   "source": [
    "## Plot"
   ]
  },
  {
   "cell_type": "code",
   "execution_count": 5,
   "id": "4dbe2bcd-275e-4848-8d83-37d226477124",
   "metadata": {
    "tags": []
   },
   "outputs": [],
   "source": [
    "strains = ['sen', 'ppu', 'sma', '-']\n",
    "phages = ['PRD1', 'amb', 'cer', '-']\n",
    "strains = ['sen', 'sma', 'ppu', '-']\n",
    "phages = ['cer', 'PRD1', '-']\n",
    "\n",
    "strain_order = dict(zip(strains, range(0, len(strains))))\n",
    "phage_order = dict(zip(phages, range(0, len(phages))))"
   ]
  },
  {
   "cell_type": "markdown",
   "id": "cf9627b7-37dc-415d-8368-989b2af86aea",
   "metadata": {},
   "source": [
    "## Plot heatmap"
   ]
  },
  {
   "cell_type": "code",
   "execution_count": 6,
   "id": "436ef8ca-5ace-41d1-b7b1-e1729cbecad2",
   "metadata": {
    "tags": []
   },
   "outputs": [],
   "source": [
    "df_las = pd.read_csv('../data/all_liquidasssayscores.tsv', sep='\\t')\n",
    "\n",
    "df_las = df_las[df_las['strain'].isin(strains)]\n",
    "df_las = df_las[df_las['phage'].isin(phages)]"
   ]
  },
  {
   "cell_type": "code",
   "execution_count": 7,
   "id": "c450c5b6-01f7-4e1b-bdd9-2d524eef5546",
   "metadata": {
    "tags": []
   },
   "outputs": [],
   "source": [
    "# color palettes\n",
    "greenish = sns.cubehelix_palette(start=2.8, rot=-.2, dark=0, light=.97, as_cmap=True)\n",
    "blueish = sns.cubehelix_palette(start=2.9, rot=-.16, dark=0, light=.97, as_cmap=True)\n",
    "new = sns.cubehelix_palette(start=3, rot=.5, gamma=1, hue=1, dark=0.1, light=.97, as_cmap=True)\n",
    "\n",
    "background = '#ededf2'"
   ]
  },
  {
   "cell_type": "code",
   "execution_count": 8,
   "id": "fbebdf01-b9a5-4391-b0e8-c8d54a31bc4b",
   "metadata": {
    "tags": []
   },
   "outputs": [],
   "source": [
    "# remove no phage rows and make into heatmap-style matrix\n",
    "df_las_heatmap = df_las[df_las['phage'] != '-'].pivot(index='strain', columns='phage', values='las')\n",
    "\n",
    "# ground everything at zero\n",
    "df_las_heatmap[df_las_heatmap <= 0] = 0"
   ]
  },
  {
   "cell_type": "code",
   "execution_count": 9,
   "id": "e6843c16-bb0b-4579-be87-c8516b0c86da",
   "metadata": {
    "tags": []
   },
   "outputs": [],
   "source": [
    "# reorder\n",
    "df_fig = df_las_heatmap[phages[:-1]]\n",
    "df_fig = df_fig.reindex(strains[:-1])"
   ]
  },
  {
   "cell_type": "code",
   "execution_count": 10,
   "id": "3ebb64b7-459d-44fb-86e9-a8178b8d5a0a",
   "metadata": {
    "tags": []
   },
   "outputs": [
    {
     "data": {
      "image/png": "[encoded data removed]",
      "text/plain": [
       "<Figure size 500x500 with 2 Axes>"
      ]
     },
     "metadata": {},
     "output_type": "display_data"
    }
   ],
   "source": [
    "fig, axs = plt.subplots(1, 1,\n",
    "                        figsize=(5,5))\n",
    "\n",
    "g = sns.heatmap(df_fig.T,\n",
    "                ax=axs,\n",
    "                square=True,\n",
    "                linewidths=3,\n",
    "                linecolor=background,\n",
    "                cmap=new,\n",
    "                cbar=True,\n",
    "                vmax=100,\n",
    "                annot=True)\n",
    "\n",
    "g.set_facecolor(background)\n",
    "\n",
    "# horizontal lines\n",
    "#for i in range(df_fig.shape[1]+1):\n",
    " #   g.axhline(i, color='white', lw=2)\n",
    "\n",
    "#plt.savefig('../data/svgs/mini_hm.svg')\n",
    "plt.show()"
   ]
  },
  {
   "cell_type": "markdown",
   "id": "4752c5f2-fc67-42dd-8999-a62bedad85b6",
   "metadata": {},
   "source": [
    "## Plot curves"
   ]
  },
  {
   "cell_type": "code",
   "execution_count": 11,
   "id": "058f12e1-ba0f-40ee-b72e-e89ca533d653",
   "metadata": {
    "tags": []
   },
   "outputs": [],
   "source": [
    "def subsample(df_exp, subsample_freq='30min'):\n",
    "    '''\n",
    "    subsample time series\n",
    "    '''\n",
    "    df_sub = df_exp.copy()    \n",
    "    \n",
    "    # fill no phage wells with '-'\n",
    "    df_sub['phage'] = df_sub['phage'].fillna('-')\n",
    "    \n",
    "    # subsample\n",
    "    df_sub.set_index(['well', 'timedelta', 'phage'], inplace=True)\n",
    "    df_sub = df_sub.groupby([pd.Grouper(level='well'),\n",
    "                             pd.Grouper(level='phage'),\n",
    "                             pd.Grouper(level='timedelta', freq=subsample_freq)])['OD600'].mean().reset_index()\n",
    "    \n",
    "    # convert timedelta into float minutes\n",
    "    df_sub['minutes'] = df_sub['timedelta'].dt.total_seconds()/60\n",
    "    \n",
    "    return df_sub"
   ]
  },
  {
   "cell_type": "code",
   "execution_count": 12,
   "id": "c4f24613-a5e5-488b-ac3e-0cf34cc284e5",
   "metadata": {
    "tags": []
   },
   "outputs": [],
   "source": [
    "# subsample\n",
    "df_all_experiments = df_all_experiments[df_all_experiments['strain'].isin(strains)]\n",
    "df_all_experiments = df_all_experiments[df_all_experiments['phage'].isin(phages)]"
   ]
  },
  {
   "cell_type": "code",
   "execution_count": 15,
   "id": "314c1566-5dbb-4ef6-a2c7-0b2616fe049f",
   "metadata": {
    "tags": []
   },
   "outputs": [
    {
     "data": {
      "image/png": "[encoded data removed]",
      "text/plain": [
       "<Figure size 600x400 with 6 Axes>"
      ]
     },
     "metadata": {},
     "output_type": "display_data"
    }
   ],
   "source": [
    "fig, axs = plt.subplots(2, 3,\n",
    "                        figsize=(6,4),\n",
    "                        sharex=True,\n",
    "                        sharey=True)\n",
    "\n",
    "sns. despine()\n",
    "\n",
    "# iterate over each experiment\n",
    "for experiment in df_all_experiments['experiment'].unique():\n",
    "    \n",
    "    # get dataframe with that experiment\n",
    "    df_experiment = df_all_experiments[df_all_experiments['experiment'] == experiment]\n",
    "    \n",
    "    # extract which strain is being run in that experiment\n",
    "    strain_exp = df_experiment['strain'].unique()[0]\n",
    "    \n",
    "    # subsample dataframe \n",
    "    df_sub = subsample(df_experiment, subsample_freq='20min')\n",
    "    \n",
    "    # get column to use per strain depending on dictionary\n",
    "    col = strain_order[strain_exp]\n",
    "    \n",
    "    axs[0][0].set_xlim([0, 601])\n",
    "    axs[0][0].set_ylim([0, 1.1])\n",
    "    axs[0][0].yaxis.set_ticks(np.arange(0, 1.5, .5))\n",
    "    axs[0][0].xaxis.set_ticks(np.arange(0, 800, 300))\n",
    "    # iterate over phage per strain\n",
    "    for phage in df_experiment['phage'].unique():\n",
    "        # if phage is not phage negative control\n",
    "        if phage != '-':\n",
    "            # define row to plot phage\n",
    "            row = phage_order[phage]\n",
    "            \n",
    "            # titles only in first column and last row\n",
    "            axs[row][col].set_xlabel('')\n",
    "            if col == 0:\n",
    "                axs[row][col].set_ylabel(phage)\n",
    "            if row == 2:\n",
    "                axs[row][col].set_xlabel(strain_exp)\n",
    "            \n",
    "            \n",
    "            \n",
    "            # plot no phage control for each experiment\n",
    "            sns.lineplot(data=df_sub[df_sub['phage'] == '-'],\n",
    "                         ax=axs[row][col],\n",
    "                         x='minutes',\n",
    "                         y='OD600',\n",
    "                         color='#1B263C',\n",
    "                         errorbar='se',\n",
    "                         style=True,\n",
    "                         lw=1,\n",
    "                         dashes=[(1, 3)],\n",
    "                         legend=None)\n",
    "            \n",
    "            # plot phage positive for each experiment\n",
    "            sns.lineplot(data=df_sub[df_sub['phage'] == phage],\n",
    "                         ax=axs[row][col],\n",
    "                         x='minutes',\n",
    "                         y='OD600',\n",
    "                         errorbar='se',\n",
    "                         lw=1,\n",
    "                         color='#C37082')\n",
    "            \n",
    "#plt.savefig('../data/svgs/mini_curves.svg')\n",
    "plt.show()"
   ]
  }
 ],
 "metadata": {
  "kernelspec": {
   "display_name": "Python 3 (ipykernel)",
   "language": "python",
   "name": "python3"
  },
  "language_info": {
   "codemirror_mode": {
    "name": "ipython",
    "version": 3
   },
   "file_extension": ".py",
   "mimetype": "text/x-python",
   "name": "python",
   "nbconvert_exporter": "python",
   "pygments_lexer": "ipython3",
   "version": "3.10.8"
  }
 },
 "nbformat": 4,
 "nbformat_minor": 5
}
