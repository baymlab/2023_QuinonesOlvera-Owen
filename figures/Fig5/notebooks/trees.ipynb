{
 "cells": [
  {
   "cell_type": "markdown",
   "metadata": {},
   "source": [
    "# Make trees with whole genome of IncFs"
   ]
  },
  {
   "cell_type": "code",
   "execution_count": 2,
   "metadata": {},
   "outputs": [],
   "source": [
    "from Bio import SeqIO\n",
    "import os"
   ]
  },
  {
   "cell_type": "raw",
   "metadata": {},
   "source": [
    "F_genomes/\n",
    "├─ Fiersviridae/\n",
    "│   ├─ Emesvirus\n",
    "│   ├─ Perrunavirus\n",
    "│   └─ Qubevirus\n",
    "└─ Inoviridae/\n",
    "    └─ Inovirus (M13)"
   ]
  },
  {
   "cell_type": "markdown",
   "metadata": {},
   "source": [
    "## Emesvirus"
   ]
  },
  {
   "cell_type": "code",
   "execution_count": 9,
   "metadata": {},
   "outputs": [],
   "source": [
    "eme_dir = '../data/F_genomes/Fiersviridae/Emesvirus/'\n",
    "emes = []\n",
    "\n",
    "for file in os.listdir(eme_dir):\n",
    "    path = os.path.join(eme_dir, file)\n",
    "    if file.endswith('.gb'):\n",
    "        for record in SeqIO.parse(path, 'genbank'):\n",
    "            record.seq = record.seq.rstrip('N')\n",
    "            record.seq = record.seq.lstrip('N')\n",
    "            \n",
    "            name = file.split('.gb')[0]\n",
    "            record.id = name\n",
    "            record.description = ''\n",
    "            emes.append(record)"
   ]
  },
  {
   "cell_type": "code",
   "execution_count": 10,
   "metadata": {},
   "outputs": [
    {
     "data": {
      "text/plain": [
       "9"
      ]
     },
     "execution_count": 10,
     "metadata": {},
     "output_type": "execute_result"
    }
   ],
   "source": [
    "SeqIO.write(emes, '../data/alignments/emesvirus.fasta', 'fasta')"
   ]
  },
  {
   "cell_type": "code",
   "execution_count": 11,
   "metadata": {},
   "outputs": [],
   "source": [
    "!clustalo --outfmt=fasta -i '../data/alignments/emesvirus.fasta' -o '../data/alignments/emesvirus.afa'"
   ]
  },
  {
   "cell_type": "code",
   "execution_count": null,
   "metadata": {},
   "outputs": [],
   "source": [
    "! esl-reformat 'phylip' '../data/alignments/emesvirus.sub.afa' > '../data/alignments/emesvirus.sub.aln.phy'"
   ]
  },
  {
   "cell_type": "code",
   "execution_count": null,
   "metadata": {},
   "outputs": [],
   "source": [
    "aln_phy = 'emesvirus.sub.aln.phy'\n",
    "phy_cmd = 'phyml '\\\n",
    "            '-d nt '\\\n",
    "            '-m GTR ' \\\n",
    "            '-b -4 '\\\n",
    "            '-v 0.0 '\\\n",
    "            '-c 4 '\\\n",
    "            '-a e '\\\n",
    "            '-f e '\\\n",
    "            '--no_memory_check '\\\n",
    "            f'-i {aln_phy}'"
   ]
  },
  {
   "cell_type": "code",
   "execution_count": null,
   "metadata": {},
   "outputs": [],
   "source": [
    "phy_cmd"
   ]
  },
  {
   "cell_type": "markdown",
   "metadata": {},
   "source": [
    "## Qubevirus"
   ]
  },
  {
   "cell_type": "code",
   "execution_count": 19,
   "metadata": {},
   "outputs": [],
   "source": [
    "qub_dir = '../data/F_genomes/Fiersviridae/Qubevirus/'\n",
    "qubs = []\n",
    "\n",
    "for file in os.listdir(qub_dir):\n",
    "    path = os.path.join(qub_dir, file)\n",
    "    if file.endswith('.gb'):\n",
    "        for record in SeqIO.parse(path, 'genbank'):\n",
    "            record.seq = record.seq.rstrip('N')\n",
    "            record.seq = record.seq.lstrip('N')\n",
    "            \n",
    "            name = file.split('.gb')[0]\n",
    "            record.id = name\n",
    "            record.description = ''\n",
    "            qubs.append(record)"
   ]
  },
  {
   "cell_type": "code",
   "execution_count": 21,
   "metadata": {},
   "outputs": [
    {
     "data": {
      "text/plain": [
       "11"
      ]
     },
     "execution_count": 21,
     "metadata": {},
     "output_type": "execute_result"
    }
   ],
   "source": [
    "SeqIO.write(qubs, '../data/alignments/qubevirus.fasta', 'fasta')"
   ]
  },
  {
   "cell_type": "code",
   "execution_count": 22,
   "metadata": {},
   "outputs": [],
   "source": [
    "!clustalo --outfmt=fasta -i '../data/alignments/qubevirus.fasta' -o '../data/alignments/qubevirus.afa'"
   ]
  },
  {
   "cell_type": "code",
   "execution_count": 27,
   "metadata": {},
   "outputs": [],
   "source": [
    "!esl-reformat 'phylip' '../data/alignments/qubevirus.sub.afa' > '../data/alignments/qubevirus.sub.phy'"
   ]
  },
  {
   "cell_type": "code",
   "execution_count": 25,
   "metadata": {},
   "outputs": [],
   "source": [
    "aln_phy = 'qubevirus.sub.phy'\n",
    "phy_cmd = 'phyml '\\\n",
    "            '-d nt '\\\n",
    "            '-m GTR ' \\\n",
    "            '-b -4 '\\\n",
    "            '-v 0.0 '\\\n",
    "            '-c 4 '\\\n",
    "            '-a e '\\\n",
    "            '-f e '\\\n",
    "            '--no_memory_check '\\\n",
    "            f'-i {aln_phy}'"
   ]
  },
  {
   "cell_type": "code",
   "execution_count": 26,
   "metadata": {},
   "outputs": [
    {
     "data": {
      "text/plain": [
       "'phyml -d nt -m GTR -b -4 -v 0.0 -c 4 -a e -f e --no_memory_check -i qubevirus.sub.phy'"
      ]
     },
     "execution_count": 26,
     "metadata": {},
     "output_type": "execute_result"
    }
   ],
   "source": [
    "phy_cmd"
   ]
  },
  {
   "cell_type": "markdown",
   "metadata": {},
   "source": [
    "# Inovirus"
   ]
  },
  {
   "cell_type": "code",
   "execution_count": 39,
   "metadata": {},
   "outputs": [],
   "source": [
    "ino_dir = '../data/F_genomes/Inoviridae/Inovirus/'\n",
    "ino = []\n",
    "\n",
    "for file in os.listdir(ino_dir):\n",
    "    path = os.path.join(ino_dir, file)\n",
    "    if file.endswith('.gb'):\n",
    "        for record in SeqIO.parse(path, 'genbank'):\n",
    "            record.seq = record.seq.rstrip('N')\n",
    "            record.seq = record.seq.lstrip('N')\n",
    "            \n",
    "            name = file.split('.gb')[0]\n",
    "            record.id = name\n",
    "            record.description = ''\n",
    "            ino.append(record)"
   ]
  },
  {
   "cell_type": "code",
   "execution_count": 40,
   "metadata": {},
   "outputs": [
    {
     "name": "stdout",
     "output_type": "stream",
     "text": [
      "did not find start for: FfLavender\n"
     ]
    }
   ],
   "source": [
    "for genome in ino:\n",
    "    loc = genome.seq.find('ATGATTGACAT')\n",
    "    if loc == -1:\n",
    "        print(f'did not find start for: {genome.id}')\n",
    "    elif loc > 0:\n",
    "        cut = genome[:loc].seq\n",
    "        new_seq = genome[loc:].seq\n",
    "        genome.seq = new_seq + cut"
   ]
  },
  {
   "cell_type": "code",
   "execution_count": 41,
   "metadata": {},
   "outputs": [
    {
     "data": {
      "text/plain": [
       "8"
      ]
     },
     "execution_count": 41,
     "metadata": {},
     "output_type": "execute_result"
    }
   ],
   "source": [
    "SeqIO.write(ino, '../data/alignments/inovirus.fasta', 'fasta')"
   ]
  },
  {
   "cell_type": "code",
   "execution_count": 45,
   "metadata": {},
   "outputs": [],
   "source": [
    "!clustalo --outfmt=fasta -i '../data/alignments/inovirus.fasta' -o '../data/alignments/inovirus.afa'"
   ]
  },
  {
   "cell_type": "code",
   "execution_count": 50,
   "metadata": {},
   "outputs": [],
   "source": [
    "!esl-reformat 'phylip' '../data/alignments/inovirus.sub.afa' > '../data/alignments/inovirus.sub.phy'"
   ]
  },
  {
   "cell_type": "code",
   "execution_count": 53,
   "metadata": {},
   "outputs": [],
   "source": [
    "aln_phy = 'inovirus.sub.phy'\n",
    "phy_cmd = 'phyml '\\\n",
    "            '-d nt '\\\n",
    "            '-m GTR ' \\\n",
    "            '-b -4 '\\\n",
    "            '-v 0.0 '\\\n",
    "            '-c 4 '\\\n",
    "            '-a e '\\\n",
    "            '-f e '\\\n",
    "            '--no_memory_check '\\\n",
    "            f'-i {aln_phy}'"
   ]
  },
  {
   "cell_type": "code",
   "execution_count": 54,
   "metadata": {},
   "outputs": [
    {
     "data": {
      "text/plain": [
       "'phyml -d nt -m GTR -b -4 -v 0.0 -c 4 -a e -f e --no_memory_check -i inovirus.sub.phy'"
      ]
     },
     "execution_count": 54,
     "metadata": {},
     "output_type": "execute_result"
    }
   ],
   "source": [
    "phy_cmd"
   ]
  },
  {
   "cell_type": "code",
   "execution_count": null,
   "metadata": {},
   "outputs": [],
   "source": []
  }
 ],
 "metadata": {
  "kernelspec": {
   "display_name": "Python 3 (ipykernel)",
   "language": "python",
   "name": "python3"
  },
  "language_info": {
   "codemirror_mode": {
    "name": "ipython",
    "version": 3
   },
   "file_extension": ".py",
   "mimetype": "text/x-python",
   "name": "python",
   "nbconvert_exporter": "python",
   "pygments_lexer": "ipython3",
   "version": "3.10.8"
  }
 },
 "nbformat": 4,
 "nbformat_minor": 4
}
